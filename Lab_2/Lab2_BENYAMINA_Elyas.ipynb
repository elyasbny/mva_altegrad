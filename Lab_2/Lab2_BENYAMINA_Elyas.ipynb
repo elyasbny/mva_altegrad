{
  "cells": [
    {
      "cell_type": "code",
      "execution_count": 23,
      "metadata": {},
      "outputs": [],
      "source": [
        "# Graph Mining - ALTEGRAD - Oct 2023"
      ]
    },
    {
      "cell_type": "code",
      "execution_count": 24,
      "metadata": {
        "id": "StfsNCMxuAsO"
      },
      "outputs": [],
      "source": [
        "import networkx as nx\n",
        "import matplotlib.pyplot as plt\n",
        "import numpy as np\n",
        "from scipy.sparse.linalg import eigs\n",
        "from sklearn.cluster import KMeans\n",
        "from scipy.sparse import diags, eye\n",
        "from random import randint\n",
        "from pathlib import Path\n",
        "from collections import Counter\n",
        "from sklearn.model_selection import train_test_split\n",
        "from sklearn.svm import SVC\n",
        "from sklearn.metrics import accuracy_score"
      ]
    },
    {
      "cell_type": "markdown",
      "metadata": {},
      "source": [
        "# Part 1"
      ]
    },
    {
      "cell_type": "code",
      "execution_count": 25,
      "metadata": {
        "colab": {
          "base_uri": "https://localhost:8080/"
        },
        "id": "OHizPdVxu7v8",
        "outputId": "1f4b9bc1-adbf-4a93-84bf-8e13b662691b"
      },
      "outputs": [
        {
          "name": "stdout",
          "output_type": "stream",
          "text": [
            "Number of Nodes:\n",
            "9877\n",
            "Number of Edges:\n",
            "25998\n"
          ]
        }
      ],
      "source": [
        "############## Task 1\n",
        "\n",
        "##################\n",
        "G = nx.read_edgelist(path='CA-HepTh.txt', delimiter='\\t')\n",
        "print(\"Number of Nodes:\")\n",
        "print(G.number_of_nodes())\n",
        "print(\"Number of Edges:\")\n",
        "print(G.number_of_edges())\n",
        "##################\n",
        "\n"
      ]
    },
    {
      "cell_type": "code",
      "execution_count": 26,
      "metadata": {},
      "outputs": [
        {
          "name": "stdout",
          "output_type": "stream",
          "text": [
            "Number of Connected Components:\n",
            "429\n",
            "Number of Nodes of largest connected component subgraph:\n",
            "8638\n",
            "Number of Edges of largest connected component subgraph:\n",
            "24827\n",
            "Fraction of Nodes of largest connected component subgraph:\n",
            "0.8745570517363572\n",
            "Fraction of Edges of largest connected component subgraph:\n",
            "0.9549580736979768\n"
          ]
        }
      ],
      "source": [
        "############## Task 2\n",
        "\n",
        "##################\n",
        "print(\"Number of Connected Components:\")\n",
        "print(nx.number_connected_components(G))\n",
        "# Extract largest connected component subgraph\n",
        "G_ls = G.subgraph(max(nx.connected_components(G), key=len))\n",
        "print(\"Number of Nodes of largest connected component subgraph:\")\n",
        "print(G_ls.number_of_nodes())\n",
        "print(\"Number of Edges of largest connected component subgraph:\")\n",
        "print(G_ls.number_of_edges())\n",
        "print(\"Fraction of Nodes of largest connected component subgraph:\")\n",
        "print(G_ls.number_of_nodes()/G.number_of_nodes())\n",
        "print(\"Fraction of Edges of largest connected component subgraph:\")\n",
        "print(G_ls.number_of_edges()/G.number_of_edges())\n",
        "##################"
      ]
    },
    {
      "cell_type": "code",
      "execution_count": 27,
      "metadata": {
        "colab": {
          "base_uri": "https://localhost:8080/"
        },
        "id": "at1Ur2ccuKDO",
        "outputId": "23b7c82d-700d-4954-fad0-dbd96b949a7e"
      },
      "outputs": [
        {
          "name": "stdout",
          "output_type": "stream",
          "text": [
            "Min degree of nodes:\n",
            "1\n",
            "Max degree of nodes:\n",
            "65\n",
            "Mean degree of nodes:\n",
            "5.264351523742027\n"
          ]
        }
      ],
      "source": [
        "############## Task 3\n",
        "\n",
        "# Degree\n",
        "degree_sequence = np.array([G.degree(node) for node in G.nodes()])\n",
        "\n",
        "##################\n",
        "print(\"Min degree of nodes:\")\n",
        "print(np.min(degree_sequence))\n",
        "print(\"Max degree of nodes:\")\n",
        "print(np.max(degree_sequence))\n",
        "print(\"Mean degree of nodes:\")\n",
        "print(np.mean(degree_sequence))\n",
        "##################"
      ]
    },
    {
      "cell_type": "code",
      "execution_count": 28,
      "metadata": {
        "colab": {
          "base_uri": "https://localhost:8080/",
          "height": 447
        },
        "id": "vWBOu_Thc2vY",
        "outputId": "99486057-9f27-49c9-9bbb-aad52aae8578"
      },
      "outputs": [
        {
          "data": {
            "text/plain": [
              "[]"
            ]
          },
          "execution_count": 28,
          "metadata": {},
          "output_type": "execute_result"
        },
        {
          "data": {
            "image/png": "[encoded data removed]",
            "text/plain": [
              "<Figure size 640x480 with 1 Axes>"
            ]
          },
          "metadata": {},
          "output_type": "display_data"
        }
      ],
      "source": [
        "############## Task 4\n",
        "\n",
        "##################\n",
        "degree_G = [val for (node, val) in G.degree()]\n",
        "plt.hist(degree_G, bins='auto')\n",
        "#plt.xscale('log')\n",
        "#plt.yscale('log')\n",
        "plt.plot()\n",
        "##################"
      ]
    },
    {
      "cell_type": "code",
      "execution_count": 29,
      "metadata": {
        "colab": {
          "base_uri": "https://localhost:8080/",
          "height": 451
        },
        "id": "C-qcUe5WgMqn",
        "outputId": "3584b9e2-1a3d-485c-9864-02891c50a0ab"
      },
      "outputs": [
        {
          "data": {
            "text/plain": [
              "[<matplotlib.lines.Line2D at 0x128d3eb90>]"
            ]
          },
          "execution_count": 29,
          "metadata": {},
          "output_type": "execute_result"
        },
        {
          "data": {
            "image/png": "[encoded data removed]",
            "text/plain": [
              "<Figure size 640x480 with 1 Axes>"
            ]
          },
          "metadata": {},
          "output_type": "display_data"
        }
      ],
      "source": [
        "############## Task 4\n",
        "\n",
        "##################\n",
        "hist = nx.degree_histogram(G)\n",
        "plt.loglog(hist)\n",
        "##################"
      ]
    },
    {
      "cell_type": "code",
      "execution_count": 32,
      "metadata": {
        "colab": {
          "base_uri": "https://localhost:8080/"
        },
        "id": "0AqGHsK3pJqz",
        "outputId": "5ff16f2c-c65a-459c-addc-c7421b7d4dbb"
      },
      "outputs": [
        {
          "name": "stdout",
          "output_type": "stream",
          "text": [
            "Global clustering coefficient:\n",
            "0.2839996525875546\n"
          ]
        }
      ],
      "source": [
        "############## Task 5\n",
        "\n",
        "##################\n",
        "print(\"Global clustering coefficient:\")\n",
        "print(nx.transitivity(G))\n",
        "##################"
      ]
    },
    {
      "cell_type": "markdown",
      "metadata": {},
      "source": [
        "# Part 2"
      ]
    },
    {
      "cell_type": "code",
      "execution_count": 45,
      "metadata": {},
      "outputs": [],
      "source": [
        "############## Task 6\n",
        "\n",
        "# Perform spectral clustering to partition graph G into k clusters\n",
        "def spectral_clustering(G, k):   \n",
        "    ##################\n",
        "    nb_nodes = G.number_of_nodes()\n",
        "    A = nx.adjacency_matrix(G)\n",
        "    D_inv=diags([1 / G.degree(node) for node in G.nodes()])\n",
        "\n",
        "    Lrw = np.eye(nb_nodes) - np.dot(D_inv,A)\n",
        "    eigenvalues, eigenvectors = eigs(Lrw,k,which='SR')\n",
        "    eigenvalues = eigenvalues.real\n",
        "    eigenvectors = eigenvectors.real\n",
        " \n",
        "    kmeans_clustering = KMeans(n_clusters=k)\n",
        "    kmeans_clustering.fit(eigenvectors)\n",
        "    list_nodes=list(G.nodes.keys())\n",
        "    clustering={list_nodes[i]:kmeans_clustering.labels_[i] for i in range(nb_nodes)}\n",
        "    ##################\n",
        "    return clustering"
      ]
    },
    {
      "cell_type": "code",
      "execution_count": 46,
      "metadata": {
        "colab": {
          "base_uri": "https://localhost:8080/"
        },
        "id": "owes4EUctt2p",
        "outputId": "67d43cb2-55f1-411d-fd3e-aceea425bae8"
      },
      "outputs": [
        {
          "name": "stderr",
          "output_type": "stream",
          "text": [
            "/Users/elyas/anaconda3/lib/python3.11/site-packages/sklearn/cluster/_kmeans.py:1412: FutureWarning: The default value of `n_init` will change from 10 to 'auto' in 1.4. Set the value of `n_init` explicitly to suppress the warning\n",
            "  super()._check_params_vs_input(X, default_n_init=10)\n"
          ]
        }
      ],
      "source": [
        "############## Task 7\n",
        "\n",
        "##################\n",
        "clustering = spectral_clustering(G_ls, 50)\n",
        "##################\n"
      ]
    },
    {
      "cell_type": "code",
      "execution_count": 48,
      "metadata": {},
      "outputs": [],
      "source": [
        "############## Task 8\n",
        "\n",
        "# Compute modularity value from graph G based on clustering\n",
        "def modularity(G, clustering):\n",
        "    ##################\n",
        "    m = G.number_of_edges()\n",
        "    n_clusters = len(set(clustering.values()))\n",
        "    modularity=0\n",
        "    for cluster in set(clustering.values()):\n",
        "        subgraph_nodes = []\n",
        "        for j in G.nodes():\n",
        "            if clustering[j]==cluster:\n",
        "                subgraph_nodes.append(j)\n",
        "        subgraph = G.subgraph(subgraph_nodes)\n",
        "        l_c = subgraph.number_of_edges()\n",
        "        d_c = sum([G.degree(node) for node in subgraph_nodes])\n",
        "        modularity+=l_c/m-(d_c/(2*m))**2\n",
        "    ##################\n",
        "    \n",
        "    return modularity"
      ]
    },
    {
      "cell_type": "code",
      "execution_count": 49,
      "metadata": {},
      "outputs": [
        {
          "name": "stdout",
          "output_type": "stream",
          "text": [
            "Modularity for previous clustering:\n",
            "0.1547785359506735\n",
            "Modularity for random clustering:\n",
            "0.00017252751914314802\n"
          ]
        }
      ],
      "source": [
        "############## Task 9\n",
        "\n",
        "##################\n",
        "print('Modularity for previous clustering:')\n",
        "print(modularity(G_ls, clustering))\n",
        "random_clustering={node:randint(0,49) for node in G_ls.nodes()}\n",
        "\n",
        "print('Modularity for random clustering:')\n",
        "print(modularity(G_ls, random_clustering))\n",
        "##################"
      ]
    },
    {
      "cell_type": "markdown",
      "metadata": {},
      "source": [
        "# Part 3"
      ]
    },
    {
      "cell_type": "code",
      "execution_count": 50,
      "metadata": {},
      "outputs": [],
      "source": [
        "############## Task 10\n",
        "\n",
        "# Generate simple dataset\n",
        "def create_dataset():\n",
        "    Gs = list()\n",
        "    y = list()\n",
        "\n",
        "    ##################\n",
        "    Gs_cycle = [nx.cycle_graph(n) for n in range(3, 103)]\n",
        "    Gs_path = [nx.path_graph(n) for n in range(3, 103)]\n",
        "    Gs = Gs_cycle + Gs_path\n",
        "    \n",
        "    y_cycle = [0 for n in range(100)]\n",
        "    y_path = [1 for n in range(100)]\n",
        "    y = y_cycle + y_path\n",
        "    ##################\n",
        "\n",
        "    return Gs, y\n",
        "\n",
        "Gs, y = create_dataset()\n",
        "G_train, G_test, y_train, y_test = train_test_split(Gs, y, test_size=0.1)"
      ]
    },
    {
      "cell_type": "code",
      "execution_count": 51,
      "metadata": {},
      "outputs": [],
      "source": [
        "# Compute the shortest path kernel\n",
        "def shortest_path_kernel(Gs_train, Gs_test):    \n",
        "    all_paths = dict()\n",
        "    sp_counts_train = dict()\n",
        "    \n",
        "    for i,G in enumerate(Gs_train):\n",
        "        sp_lengths = dict(nx.shortest_path_length(G))\n",
        "        sp_counts_train[i] = dict()\n",
        "        nodes = G.nodes()\n",
        "        for v1 in nodes:\n",
        "            for v2 in nodes:\n",
        "                if v2 in sp_lengths[v1]:\n",
        "                    length = sp_lengths[v1][v2]\n",
        "                    if length in sp_counts_train[i]:\n",
        "                        sp_counts_train[i][length] += 1\n",
        "                    else:\n",
        "                        sp_counts_train[i][length] = 1\n",
        "\n",
        "                    if length not in all_paths:\n",
        "                        all_paths[length] = len(all_paths)\n",
        "                        \n",
        "    sp_counts_test = dict()\n",
        "\n",
        "    for i,G in enumerate(Gs_test):\n",
        "        sp_lengths = dict(nx.shortest_path_length(G))\n",
        "        sp_counts_test[i] = dict()\n",
        "        nodes = G.nodes()\n",
        "        for v1 in nodes:\n",
        "            for v2 in nodes:\n",
        "                if v2 in sp_lengths[v1]:\n",
        "                    length = sp_lengths[v1][v2]\n",
        "                    if length in sp_counts_test[i]:\n",
        "                        sp_counts_test[i][length] += 1\n",
        "                    else:\n",
        "                        sp_counts_test[i][length] = 1\n",
        "\n",
        "                    if length not in all_paths:\n",
        "                        all_paths[length] = len(all_paths)\n",
        "\n",
        "    phi_train = np.zeros((len(Gs_train), len(all_paths)))\n",
        "    for i in range(len(Gs_train)):\n",
        "        for length in sp_counts_train[i]:\n",
        "            phi_train[i,all_paths[length]] = sp_counts_train[i][length]\n",
        "    \n",
        "  \n",
        "    phi_test = np.zeros((len(Gs_test), len(all_paths)))\n",
        "    for i in range(len(Gs_test)):\n",
        "        for length in sp_counts_test[i]:\n",
        "            phi_test[i,all_paths[length]] = sp_counts_test[i][length]\n",
        "\n",
        "    K_train = np.dot(phi_train, phi_train.T)\n",
        "    K_test = np.dot(phi_test, phi_train.T)\n",
        "\n",
        "    return K_train, K_test\n",
        "\n",
        "K_train_sp, K_test_sp = shortest_path_kernel(G_train, G_test)"
      ]
    },
    {
      "cell_type": "code",
      "execution_count": 52,
      "metadata": {},
      "outputs": [],
      "source": [
        "############## Task 11\n",
        "\n",
        "# Compute the graphlet kernel\n",
        "def graphlet_kernel(Gs_train, Gs_test, n_samples=200):\n",
        "    graphlets = [nx.Graph(), nx.Graph(), nx.Graph(), nx.Graph()]\n",
        "    \n",
        "    graphlets[0].add_nodes_from(range(3))\n",
        "\n",
        "    graphlets[1].add_nodes_from(range(3))\n",
        "    graphlets[1].add_edge(0,1)\n",
        "\n",
        "    graphlets[2].add_nodes_from(range(3))\n",
        "    graphlets[2].add_edge(0,1)\n",
        "    graphlets[2].add_edge(1,2)\n",
        "\n",
        "    graphlets[3].add_nodes_from(range(3))\n",
        "    graphlets[3].add_edge(0,1)\n",
        "    graphlets[3].add_edge(1,2)\n",
        "    graphlets[3].add_edge(0,2)\n",
        "\n",
        "    phi_train = np.zeros((len(G_train), 4))\n",
        "    \n",
        "    ##################\n",
        "    for i, graph in enumerate(Gs_train):\n",
        "        for k in range(n_samples):\n",
        "            subgraph = graph.subgraph(np.random.choice(graph.nodes(), 3))\n",
        "            for j in range(len(graphlets)):\n",
        "                if nx.is_isomorphic(subgraph, graphlets[j]):\n",
        "                   phi_train[i,j] += 1\n",
        "    ##################\n",
        "\n",
        "\n",
        "    phi_test = np.zeros((len(G_test), 4))\n",
        "    \n",
        "    ##################\n",
        "    for i, graph in enumerate(Gs_test):\n",
        "        for k in range(n_samples):\n",
        "            subgraph = graph.subgraph(np.random.choice(graph.nodes(), 3))\n",
        "            for j in range(len(graphlets)):\n",
        "                if nx.is_isomorphic(subgraph, graphlets[j]):\n",
        "                    phi_test[i,j] += 1\n",
        "    ##################\n",
        "\n",
        "    K_train = np.dot(phi_train, phi_train.T)\n",
        "    K_test = np.dot(phi_test, phi_train.T)\n",
        "\n",
        "    return K_train, K_test"
      ]
    },
    {
      "cell_type": "code",
      "execution_count": 67,
      "metadata": {},
      "outputs": [],
      "source": [
        "############## Task 12\n",
        "\n",
        "##################\n",
        "K_train_g, K_test_g = graphlet_kernel(G_train, G_test)\n",
        "##################"
      ]
    },
    {
      "cell_type": "code",
      "execution_count": 68,
      "metadata": {},
      "outputs": [
        {
          "name": "stdout",
          "output_type": "stream",
          "text": [
            "SVM accuracy with shortest path kernel:\n",
            "1.0\n",
            "SVM accuracy with graphlet kernel:\n",
            "0.55\n"
          ]
        }
      ],
      "source": [
        "############## Task 13\n",
        "\n",
        "##################\n",
        "SVM_sp = SVC(kernel=\"precomputed\")\n",
        "SVM_sp.fit(K_train_sp, y_train)\n",
        "y_pred_sp = SVM_sp.predict(K_test_sp)\n",
        "\n",
        "SVM_g = SVC(kernel=\"precomputed\")\n",
        "SVM_g.fit(K_train_g, y_train)\n",
        "y_pred_g = SVM_g.predict(K_test_g)\n",
        "\n",
        "print('SVM accuracy with shortest path kernel:')\n",
        "print(accuracy_score(y_test, y_pred_sp))\n",
        "\n",
        "print('SVM accuracy with graphlet kernel:')\n",
        "print(accuracy_score(y_test, y_pred_g))\n",
        "##################\n"
      ]
    }
  ],
  "metadata": {
    "colab": {
      "provenance": []
    },
    "kernelspec": {
      "display_name": "Python 3",
      "name": "python3"
    },
    "language_info": {
      "codemirror_mode": {
        "name": "ipython",
        "version": 3
      },
      "file_extension": ".py",
      "mimetype": "text/x-python",
      "name": "python",
      "nbconvert_exporter": "python",
      "pygments_lexer": "ipython3",
      "version": "3.11.5"
    }
  },
  "nbformat": 4,
  "nbformat_minor": 0
}
