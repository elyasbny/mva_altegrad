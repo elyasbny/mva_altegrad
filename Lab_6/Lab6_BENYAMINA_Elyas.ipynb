{
  "nbformat": 4,
  "nbformat_minor": 0,
  "metadata": {
    "colab": {
      "provenance": []
    },
    "kernelspec": {
      "name": "python3",
      "display_name": "Python 3"
    },
    "language_info": {
      "name": "python"
    }
  },
  "cells": [
    {
      "cell_type": "code",
      "execution_count": 6,
      "metadata": {
        "id": "k6haU-4-G7KL"
      },
      "outputs": [],
      "source": [
        "import networkx as nx\n",
        "import numpy as np\n",
        "import torch\n",
        "from random import randint\n",
        "import torch\n",
        "import torch.nn as nn\n",
        "import torch.nn.functional as F\n",
        "\n",
        "import time\n",
        "import networkx as nx\n",
        "import numpy as np\n",
        "import scipy.sparse as sp\n",
        "from sklearn.model_selection import train_test_split\n",
        "import torch\n",
        "import torch.nn as nn\n",
        "from torch import optim"
      ]
    },
    {
      "cell_type": "code",
      "source": [
        "def create_dataset():\n",
        "    Gs = list()\n",
        "    y = list()\n",
        "\n",
        "    ############## Task 1\n",
        "\n",
        "    ##################\n",
        "    for i in range(50):\n",
        "        n = randint(10,20)\n",
        "        Gs.append(nx.fast_gnp_random_graph(n,0.2))\n",
        "        y.append(0)\n",
        "        n = randint(10,20)\n",
        "        Gs.append(nx.fast_gnp_random_graph(n,0.4))\n",
        "        y.append(1)\n",
        "    ##################\n",
        "\n",
        "    return Gs, y\n",
        "\n",
        "\n",
        "def sparse_mx_to_torch_sparse_tensor(sparse_mx):\n",
        "    sparse_mx = sparse_mx.tocoo().astype(np.float32)\n",
        "    indices = torch.from_numpy(np.vstack((sparse_mx.row, sparse_mx.col)).astype(np.int64))\n",
        "    values = torch.from_numpy(sparse_mx.data)\n",
        "    shape = torch.Size(sparse_mx.shape)\n",
        "    return torch.sparse_coo_tensor(indices, values, shape)\n"
      ],
      "metadata": {
        "id": "dZ_u-XeNHih1"
      },
      "execution_count": 7,
      "outputs": []
    },
    {
      "cell_type": "code",
      "source": [
        "class GNN(nn.Module):\n",
        "    def __init__(self, input_dim, hidden_dim_1, hidden_dim_2, hidden_dim_3, n_class):\n",
        "        super(GNN, self).__init__()\n",
        "        self.fc1 = nn.Linear(input_dim, hidden_dim_1)\n",
        "        self.fc2 = nn.Linear(hidden_dim_1, hidden_dim_2)\n",
        "        self.fc3 = nn.Linear(hidden_dim_2, hidden_dim_3)\n",
        "        self.fc4 = nn.Linear(hidden_dim_3, n_class)\n",
        "        self.relu = nn.ReLU()\n",
        "\n",
        "    def forward(self, x_in, adj, idx):\n",
        "\n",
        "        ############## Task 2\n",
        "\n",
        "        ##################\n",
        "        z0 = self.relu(self.fc1(torch.mm(adj,x_in)))\n",
        "        z1 = self.relu(self.fc2(torch.mm(adj,z0)))\n",
        "        x=z1\n",
        "        ##################\n",
        "\n",
        "        idx = idx.unsqueeze(1).repeat(1, x.size(1))\n",
        "        out = torch.zeros(int(torch.max(idx))+1, x.size(1), device=x_in.device)\n",
        "        out = out.scatter_add_(0, idx, x)\n",
        "\n",
        "        ##################\n",
        "        out = self.relu(self.fc3(out))\n",
        "        out = self.fc4(out)\n",
        "        ##################\n",
        "\n",
        "        return F.log_softmax(out, dim=1)\n"
      ],
      "metadata": {
        "id": "Rv1KuuvaHoI7"
      },
      "execution_count": 8,
      "outputs": []
    },
    {
      "cell_type": "code",
      "source": [
        "# Initializes device\n",
        "device = torch.device(\"cuda\") if torch.cuda.is_available() else torch.device(\"cpu\")\n",
        "\n",
        "# Hyperparameters\n",
        "epochs = 200\n",
        "batch_size = 8\n",
        "n_hidden_1 = 16\n",
        "n_hidden_2 = 32\n",
        "n_hidden_3 = 32\n",
        "learning_rate = 0.01\n",
        "\n",
        "# Generates synthetic dataset\n",
        "Gs, y = create_dataset()\n",
        "n_class = np.unique(y).size\n",
        "\n",
        "# Splits the dataset into a training and a test set\n",
        "G_train, G_test, y_train, y_test = train_test_split(Gs, y, test_size=0.1)\n",
        "\n",
        "N_train = len(G_train)\n",
        "N_test = len(G_test)\n",
        "\n",
        "# Initializes model and optimizer\n",
        "model = GNN(1, n_hidden_1, n_hidden_2, n_hidden_3, n_class).to(device)\n",
        "optimizer = optim.Adam(model.parameters(), lr=learning_rate)\n",
        "loss_function = nn.CrossEntropyLoss()\n",
        "\n",
        "# Trains the model\n",
        "for epoch in range(epochs):\n",
        "    t = time.time()\n",
        "    model.train()\n",
        "\n",
        "    train_loss = 0\n",
        "    correct = 0\n",
        "    count = 0\n",
        "    for i in range(0, N_train, batch_size):\n",
        "        adj_batch = list()\n",
        "        idx_batch = list()\n",
        "        y_batch = list()\n",
        "\n",
        "        ############## Task 3\n",
        "\n",
        "        ##################\n",
        "        adj_batch = [nx.adjacency_matrix(G_train[j])+sp.identity(nx.adjacency_matrix(G_train[j]).shape[0]) for j in range(i,min(i+batch_size,N_train))]\n",
        "        adj_batch = sp.block_diag(adj_batch)\n",
        "        adj_batch = sparse_mx_to_torch_sparse_tensor(adj_batch)\n",
        "\n",
        "        features_batch = torch.ones(adj_batch.shape[0], 1)\n",
        "\n",
        "        idx_batch = []\n",
        "        for j in range(i,min(i+batch_size,N_train)):\n",
        "            for k in range(G_train[j].number_of_nodes()):\n",
        "                idx_batch.append(j-i)\n",
        "        idx_batch = torch.LongTensor(idx_batch)\n",
        "        y_batch = torch.LongTensor([y_train[j] for j in range(i,min(i+batch_size,N_train))])\n",
        "        ##################\n",
        "\n",
        "        optimizer.zero_grad()\n",
        "        output = model(features_batch, adj_batch, idx_batch)\n",
        "        loss = loss_function(output, y_batch)\n",
        "        train_loss += loss.item() * output.size(0)\n",
        "        count += output.size(0)\n",
        "        preds = output.max(1)[1].type_as(y_batch)\n",
        "        correct += torch.sum(preds.eq(y_batch).double())\n",
        "        loss.backward()\n",
        "        optimizer.step()\n",
        "\n",
        "    if epoch % 10 == 0:\n",
        "        print('Epoch: {:04d}'.format(epoch+1),\n",
        "              'loss_train: {:.4f}'.format(train_loss / count),\n",
        "              'acc_train: {:.4f}'.format(correct / count),\n",
        "              'time: {:.4f}s'.format(time.time() - t))\n",
        "\n",
        "print('Optimization finished!')\n",
        "\n",
        "# Evaluates the model\n",
        "model.eval()\n",
        "test_loss = 0\n",
        "correct = 0\n",
        "count = 0\n",
        "for i in range(0, N_test, batch_size):\n",
        "    adj_batch = list()\n",
        "    idx_batch = list()\n",
        "    y_batch = list()\n",
        "\n",
        "    ############## Task 3\n",
        "\n",
        "    ##################\n",
        "    adj_batch = [nx.adjacency_matrix(G_test[j])+sp.identity(nx.adjacency_matrix(G_test[j]).shape[0]) for j in range(i,min(i+batch_size,N_test))]\n",
        "    adj_batch = sp.block_diag(adj_batch)\n",
        "    adj_batch = sparse_mx_to_torch_sparse_tensor(adj_batch)\n",
        "\n",
        "    features_batch = torch.ones(adj_batch.shape[0], 1)\n",
        "\n",
        "    idx_batch = []\n",
        "    for j in range(i,min(i+batch_size,N_test)):\n",
        "        for k in range(G_test[j].number_of_nodes()):\n",
        "            idx_batch.append(j-i)\n",
        "    idx_batch = torch.LongTensor(idx_batch)\n",
        "    y_batch = torch.LongTensor([y_test[j] for j in range(i,min(i+batch_size,N_test))])\n",
        "    ##################\n",
        "\n",
        "    output = model(features_batch, adj_batch, idx_batch)\n",
        "    loss = loss_function(output, y_batch)\n",
        "    test_loss += loss.item() * output.size(0)\n",
        "    count += output.size(0)\n",
        "    preds = output.max(1)[1].type_as(y_batch)\n",
        "    correct += torch.sum(preds.eq(y_batch).double())\n",
        "\n",
        "print('loss_test: {:.4f}'.format(test_loss / count),\n",
        "      'acc_test: {:.4f}'.format(correct / count),\n",
        "      'time: {:.4f}s'.format(time.time() - t))"
      ],
      "metadata": {
        "colab": {
          "base_uri": "https://localhost:8080/"
        },
        "id": "2gzi32w7HrQ7",
        "outputId": "379ec60b-b9e9-4426-a0e5-b69132a3398e"
      },
      "execution_count": 9,
      "outputs": [
        {
          "output_type": "stream",
          "name": "stdout",
          "text": [
            "Epoch: 0001 loss_train: 8.0417 acc_train: 0.5444 time: 0.3906s\n",
            "Epoch: 0011 loss_train: 0.2535 acc_train: 0.8889 time: 0.1569s\n",
            "Epoch: 0021 loss_train: 0.2776 acc_train: 0.8778 time: 0.1582s\n",
            "Epoch: 0031 loss_train: 0.1728 acc_train: 0.9333 time: 0.1542s\n",
            "Epoch: 0041 loss_train: 0.1515 acc_train: 0.9444 time: 0.1738s\n",
            "Epoch: 0051 loss_train: 0.1210 acc_train: 0.9444 time: 0.1549s\n",
            "Epoch: 0061 loss_train: 0.1534 acc_train: 0.9333 time: 0.1614s\n",
            "Epoch: 0071 loss_train: 0.1411 acc_train: 0.9444 time: 0.2245s\n",
            "Epoch: 0081 loss_train: 0.0802 acc_train: 0.9556 time: 0.1739s\n",
            "Epoch: 0091 loss_train: 0.0651 acc_train: 0.9667 time: 0.1550s\n",
            "Epoch: 0101 loss_train: 0.0721 acc_train: 0.9556 time: 0.1603s\n",
            "Epoch: 0111 loss_train: 0.0514 acc_train: 0.9667 time: 0.1580s\n",
            "Epoch: 0121 loss_train: 0.0559 acc_train: 0.9778 time: 0.1632s\n",
            "Epoch: 0131 loss_train: 0.0637 acc_train: 0.9667 time: 0.1615s\n",
            "Epoch: 0141 loss_train: 0.0565 acc_train: 0.9778 time: 0.1537s\n",
            "Epoch: 0151 loss_train: 0.0528 acc_train: 0.9778 time: 0.2448s\n",
            "Epoch: 0161 loss_train: 0.0520 acc_train: 0.9778 time: 0.1449s\n",
            "Epoch: 0171 loss_train: 0.0526 acc_train: 0.9778 time: 0.1580s\n",
            "Epoch: 0181 loss_train: 0.0507 acc_train: 0.9778 time: 0.1531s\n",
            "Epoch: 0191 loss_train: 0.0509 acc_train: 0.9778 time: 0.1566s\n",
            "Optimization finished!\n",
            "loss_test: 1.3009 acc_test: 0.8000 time: 0.1706s\n"
          ]
        }
      ]
    },
    {
      "cell_type": "code",
      "source": [
        "# Initializes device\n",
        "device = torch.device(\"cuda\") if torch.cuda.is_available() else torch.device(\"cpu\")\n",
        "\n",
        "# Hyperparameters\n",
        "hidden_dim = 32\n",
        "output_dim = 4\n",
        "dropout = 0.0\n",
        "neighbor_aggr = 'mean'\n",
        "readout = 'mean'\n",
        "\n",
        "\n",
        "############## Task 4\n",
        "\n",
        "##################\n",
        "list_G = [nx.cycle_graph(n) for n in range(10, 20)]\n",
        "##################"
      ],
      "metadata": {
        "id": "qIYROEIRRMUg"
      },
      "execution_count": 10,
      "outputs": []
    },
    {
      "cell_type": "code",
      "source": [
        "\n",
        "############## Task 5\n",
        "\n",
        "##################\n",
        "adj = [nx.adjacency_matrix(G)+sp.identity(nx.adjacency_matrix(G).shape[0]) for G in list_G]\n",
        "adj = sp.block_diag(adj)\n",
        "adj = sparse_mx_to_torch_sparse_tensor(adj)\n",
        "\n",
        "features = torch.ones(adj.shape[0], 1)\n",
        "\n",
        "idx_list = []\n",
        "for idx, G in enumerate(list_G):\n",
        "    for i in range(nx.adjacency_matrix(G).shape[0]):\n",
        "        idx_list.append(idx)\n",
        "idx_list = torch.LongTensor(idx_list)\n",
        "\n",
        "##################\n"
      ],
      "metadata": {
        "id": "guU629cBReUz"
      },
      "execution_count": 11,
      "outputs": []
    },
    {
      "cell_type": "code",
      "source": [
        "class MessagePassing(nn.Module):\n",
        "    def __init__(self, input_dim, output_dim, neighbor_aggr):\n",
        "        super(MessagePassing, self).__init__()\n",
        "        self.neighbor_aggr = neighbor_aggr\n",
        "        self.fc1 = nn.Linear(input_dim, output_dim)\n",
        "        self.fc2 = nn.Linear(input_dim, output_dim)\n",
        "\n",
        "    def forward(self, x, adj):\n",
        "\n",
        "        ############## Task 6\n",
        "\n",
        "        ##################\n",
        "        x_node = self.fc1(x)\n",
        "        m = torch.mm(adj,self.fc2(x))\n",
        "        ##################\n",
        "\n",
        "        if self.neighbor_aggr == 'sum':\n",
        "            output = x_node + m\n",
        "        elif self.neighbor_aggr == 'mean':\n",
        "            deg = torch.spmm(adj, torch.ones(x.size(0),1, device=x.device))\n",
        "            output = x_node + torch.div(m, deg)\n",
        "\n",
        "        return output\n",
        "\n",
        "\n",
        "\n",
        "class GNN(nn.Module):\n",
        "    def __init__(self, input_dim, hidden_dim, output_dim, neighbor_aggr, readout, dropout):\n",
        "        super(GNN, self).__init__()\n",
        "        self.readout = readout\n",
        "        self.mp1 = MessagePassing(input_dim, hidden_dim, neighbor_aggr)\n",
        "        self.mp2 = MessagePassing(hidden_dim, hidden_dim, neighbor_aggr)\n",
        "        self.fc = nn.Linear(hidden_dim, output_dim)\n",
        "        self.dropout = nn.Dropout(dropout)\n",
        "        self.relu = nn.ReLU()\n",
        "\n",
        "    def forward(self, x, adj, idx):\n",
        "\n",
        "        ############## Task 7\n",
        "\n",
        "        ##################\n",
        "        x = self.dropout(self.relu(self.mp1(x,adj)))\n",
        "        x = self.relu(self.mp2(x, adj))\n",
        "        ##################\n",
        "\n",
        "        if self.readout == 'sum':\n",
        "            idx = idx.unsqueeze(1).repeat(1, x.size(1))\n",
        "            out = torch.zeros(torch.max(idx)+1, x.size(1), device=x.device)\n",
        "            out = out.scatter_add_(0, idx, x)\n",
        "        elif self.readout == 'mean':\n",
        "            idx = idx.unsqueeze(1).repeat(1, x.size(1))\n",
        "            out = torch.zeros(torch.max(idx)+1, x.size(1), device=x.device)\n",
        "            out = out.scatter_add_(0, idx, x)\n",
        "            count = torch.zeros(torch.max(idx)+1, x.size(1), device=x.device)\n",
        "            count = count.scatter_add_(0, idx, torch.ones_like(x, device=x.device))\n",
        "            out = torch.div(out, count)\n",
        "\n",
        "\n",
        "        ############## Task 7\n",
        "\n",
        "        ##################\n",
        "        out = self.fc(out)\n",
        "        ##################\n",
        "\n",
        "        return out"
      ],
      "metadata": {
        "id": "zCPjr8HvL_-h"
      },
      "execution_count": 12,
      "outputs": []
    },
    {
      "cell_type": "code",
      "source": [
        "############## Task 8\n",
        "\n",
        "##################\n",
        "model = GNN(1, hidden_dim, output_dim, 'mean', 'mean', dropout).to(device)\n",
        "out = model(features, adj, idx_list)\n",
        "print(\"neighbor_aggr: mean, readout: mean\")\n",
        "print(out)\n",
        "\n",
        "\n",
        "model = GNN(1, hidden_dim, output_dim, 'sum', 'sum', dropout).to(device)\n",
        "out = model(features, adj, idx_list)\n",
        "print(\"neighbor_aggr: sum, readout: sum\")\n",
        "print(out)\n",
        "\n",
        "model = GNN(1, hidden_dim, output_dim, 'sum', 'mean', dropout).to(device)\n",
        "out = model(features, adj, idx_list)\n",
        "print(\"neighbor_aggr: sum, readout: mean\")\n",
        "print(out)\n",
        "\n",
        "\n",
        "model = GNN(1, hidden_dim, output_dim, 'mean', 'sum', dropout).to(device)\n",
        "out = model(features, adj, idx_list)\n",
        "print(\"neighbor_aggr: mean, readout: sum\")\n",
        "print(out)\n",
        "\n",
        "##################"
      ],
      "metadata": {
        "colab": {
          "base_uri": "https://localhost:8080/"
        },
        "id": "2mYRDx-BnS9D",
        "outputId": "235f0668-b8a1-4240-d9dd-4ddfa002a08f"
      },
      "execution_count": 13,
      "outputs": [
        {
          "output_type": "stream",
          "name": "stdout",
          "text": [
            "2\n",
            "1\n",
            "neighbor_aggr: mean, readout: mean\n",
            "tensor([[ 0.0039, -0.5437, -0.0036, -0.2145],\n",
            "        [ 0.0039, -0.5437, -0.0036, -0.2145],\n",
            "        [ 0.0039, -0.5437, -0.0036, -0.2145],\n",
            "        [ 0.0039, -0.5437, -0.0036, -0.2145],\n",
            "        [ 0.0039, -0.5437, -0.0036, -0.2145],\n",
            "        [ 0.0039, -0.5437, -0.0036, -0.2145],\n",
            "        [ 0.0039, -0.5437, -0.0036, -0.2145],\n",
            "        [ 0.0039, -0.5437, -0.0036, -0.2145],\n",
            "        [ 0.0039, -0.5437, -0.0036, -0.2145],\n",
            "        [ 0.0039, -0.5437, -0.0036, -0.2145]], grad_fn=<AddmmBackward0>)\n",
            "1\n",
            "neighbor_aggr: sum, readout: sum\n",
            "tensor([[-15.4981,   7.6375,  -7.6464,   0.9697],\n",
            "        [-17.0417,   8.3931,  -8.4240,   1.0693],\n",
            "        [-18.5853,   9.1487,  -9.2015,   1.1690],\n",
            "        [-20.1288,   9.9043,  -9.9790,   1.2686],\n",
            "        [-21.6724,  10.6599, -10.7566,   1.3683],\n",
            "        [-23.2160,  11.4156, -11.5341,   1.4679],\n",
            "        [-24.7596,  12.1712, -12.3117,   1.5676],\n",
            "        [-26.3032,  12.9268, -13.0892,   1.6672],\n",
            "        [-27.8467,  13.6824, -13.8667,   1.7669],\n",
            "        [-29.3903,  14.4380, -14.6443,   1.8665]], grad_fn=<AddmmBackward0>)\n",
            "2\n",
            "1\n",
            "neighbor_aggr: sum, readout: mean\n",
            "tensor([[-1.5371, -0.3152,  0.6403, -0.1014],\n",
            "        [-1.5371, -0.3152,  0.6403, -0.1014],\n",
            "        [-1.5371, -0.3152,  0.6403, -0.1014],\n",
            "        [-1.5371, -0.3152,  0.6403, -0.1014],\n",
            "        [-1.5371, -0.3152,  0.6403, -0.1014],\n",
            "        [-1.5371, -0.3152,  0.6403, -0.1014],\n",
            "        [-1.5371, -0.3152,  0.6403, -0.1014],\n",
            "        [-1.5371, -0.3152,  0.6403, -0.1014],\n",
            "        [-1.5371, -0.3152,  0.6403, -0.1014],\n",
            "        [-1.5371, -0.3152,  0.6403, -0.1014]], grad_fn=<AddmmBackward0>)\n",
            "1\n",
            "neighbor_aggr: mean, readout: sum\n",
            "tensor([[ 4.3620, -1.0655, -2.4999, -4.6753],\n",
            "        [ 4.7891, -1.1748, -2.7384, -5.1312],\n",
            "        [ 5.2161, -1.2841, -2.9769, -5.5871],\n",
            "        [ 5.6431, -1.3934, -3.2154, -6.0429],\n",
            "        [ 6.0701, -1.5027, -3.4539, -6.4988],\n",
            "        [ 6.4971, -1.6119, -3.6924, -6.9547],\n",
            "        [ 6.9241, -1.7212, -3.9309, -7.4105],\n",
            "        [ 7.3512, -1.8305, -4.1694, -7.8664],\n",
            "        [ 7.7782, -1.9398, -4.4079, -8.3223],\n",
            "        [ 8.2052, -2.0491, -4.6464, -8.7781]], grad_fn=<AddmmBackward0>)\n"
          ]
        }
      ]
    },
    {
      "cell_type": "code",
      "source": [
        "############## Task 9\n",
        "\n",
        "##################\n",
        "G1 = nx.Graph()\n",
        "G1.add_node(1)\n",
        "G1.add_node(2)\n",
        "G1.add_node(3)\n",
        "G1.add_node(4)\n",
        "G1.add_node(5)\n",
        "G1.add_node(6)\n",
        "G1.add_edge(1,2)\n",
        "G1.add_edge(2,3)\n",
        "G1.add_edge(1,3)\n",
        "G1.add_edge(4,5)\n",
        "G1.add_edge(5,6)\n",
        "G1.add_edge(4,6)\n",
        "\n",
        "G2 = nx.Graph()\n",
        "G2.add_node(1)\n",
        "G2.add_node(2)\n",
        "G2.add_node(3)\n",
        "G2.add_node(4)\n",
        "G2.add_node(5)\n",
        "G2.add_node(6)\n",
        "G2.add_edge(1,2)\n",
        "G2.add_edge(2,3)\n",
        "G2.add_edge(3,4)\n",
        "G2.add_edge(4,5)\n",
        "G2.add_edge(5,6)\n",
        "G2.add_edge(6,1)\n",
        "##################"
      ],
      "metadata": {
        "id": "BPZ5pjmlrpBH"
      },
      "execution_count": 14,
      "outputs": []
    },
    {
      "cell_type": "code",
      "source": [
        "############## Task 10\n",
        "\n",
        "##################\n",
        "list_G = [G1, G2]\n",
        "adj = [nx.adjacency_matrix(G)+sp.identity(nx.adjacency_matrix(G).shape[0]) for G in list_G]\n",
        "adj = sp.block_diag(adj)\n",
        "adj = sparse_mx_to_torch_sparse_tensor(adj)\n",
        "\n",
        "features = torch.ones(adj.shape[0], 1)\n",
        "\n",
        "idx_list = []\n",
        "for idx, G in enumerate(list_G):\n",
        "    for i in range(nx.adjacency_matrix(G).shape[0]):\n",
        "        idx_list.append(idx)\n",
        "idx_list = torch.LongTensor(idx_list)\n",
        "##################\n"
      ],
      "metadata": {
        "id": "MZNHhdnw5bRo"
      },
      "execution_count": 15,
      "outputs": []
    },
    {
      "cell_type": "code",
      "source": [
        "############## Task 11\n",
        "\n",
        "##################\n",
        "model = GNN(1, hidden_dim, output_dim, neighbor_aggr=\"sum\", readout=\"sum\", dropout=dropout).to(device)\n",
        "out = model(features, adj, idx_list)\n",
        "print(out)\n",
        "##################"
      ],
      "metadata": {
        "colab": {
          "base_uri": "https://localhost:8080/"
        },
        "id": "xfoLUEQq5u69",
        "outputId": "aa578c6d-8383-4e4e-9ed6-0c3b44530fb0"
      },
      "execution_count": 16,
      "outputs": [
        {
          "output_type": "stream",
          "name": "stdout",
          "text": [
            "1\n",
            "tensor([[ -5.4725, -12.4048,  -6.8671,  10.9450],\n",
            "        [ -5.4725, -12.4048,  -6.8671,  10.9450]], grad_fn=<AddmmBackward0>)\n"
          ]
        }
      ]
    },
    {
      "cell_type": "code",
      "source": [
        "############## Q4\n",
        "\n",
        "##################\n",
        "G1 = nx.Graph()\n",
        "G1.add_node(1)\n",
        "G1.add_node(2)\n",
        "G1.add_node(3)\n",
        "G1.add_node(4)\n",
        "G1.add_edge(1,2)\n",
        "G1.add_edge(3,4)\n",
        "\n",
        "G2 = nx.Graph()\n",
        "G2.add_node(1)\n",
        "G2.add_node(2)\n",
        "G2.add_node(3)\n",
        "G2.add_node(4)\n",
        "G2.add_edge(1,2)\n",
        "G2.add_edge(2,3)\n",
        "G2.add_edge(3,4)\n",
        "G2.add_edge(4,1)\n",
        "\n",
        "\n",
        "G1 = nx.Graph()\n",
        "G1.add_node(1)\n",
        "G1.add_node(2)\n",
        "G1.add_node(3)\n",
        "G1.add_node(4)\n",
        "G1.add_node(5)\n",
        "G1.add_node(6)\n",
        "G1.add_edge(1,2)\n",
        "G1.add_edge(2,3)\n",
        "G1.add_edge(1,3)\n",
        "G1.add_edge(4,5)\n",
        "G1.add_edge(5,6)\n",
        "G1.add_edge(6,7)\n",
        "G1.add_edge(7,4)\n",
        "\n",
        "G2 = nx.Graph()\n",
        "G2.add_node(1)\n",
        "G2.add_node(2)\n",
        "G2.add_node(3)\n",
        "G2.add_node(4)\n",
        "G2.add_node(5)\n",
        "G2.add_node(6)\n",
        "G2.add_edge(1,2)\n",
        "G2.add_edge(2,3)\n",
        "G2.add_edge(3,4)\n",
        "G2.add_edge(4,5)\n",
        "G2.add_edge(5,6)\n",
        "G2.add_edge(6,7)\n",
        "G2.add_edge(7,1)\n",
        "\n",
        "list_G = [G1, G2]\n",
        "adj = [nx.adjacency_matrix(G)+sp.identity(nx.adjacency_matrix(G).shape[0]) for G in list_G]\n",
        "adj = sp.block_diag(adj)\n",
        "adj = sparse_mx_to_torch_sparse_tensor(adj)\n",
        "\n",
        "features = torch.ones(adj.shape[0], 1)\n",
        "\n",
        "idx_list = []\n",
        "for idx, G in enumerate(list_G):\n",
        "    for i in range(nx.adjacency_matrix(G).shape[0]):\n",
        "        idx_list.append(idx)\n",
        "idx_list = torch.LongTensor(idx_list)\n",
        "\n",
        "\n",
        "model = GNN(1, hidden_dim, output_dim, neighbor_aggr=\"sum\", readout=\"sum\", dropout=dropout).to(device)\n",
        "out = model(features, adj, idx_list)\n",
        "print(out)\n",
        "##################"
      ],
      "metadata": {
        "colab": {
          "base_uri": "https://localhost:8080/"
        },
        "id": "1oK53AhXXeSQ",
        "outputId": "dc1c4a6e-256c-41d3-fe1f-943707292ca6"
      },
      "execution_count": 25,
      "outputs": [
        {
          "output_type": "stream",
          "name": "stdout",
          "text": [
            "1\n",
            "tensor([[-4.9904,  8.8797,  0.2486,  4.0121],\n",
            "        [-4.9904,  8.8797,  0.2486,  4.0121]], grad_fn=<AddmmBackward0>)\n"
          ]
        }
      ]
    },
    {
      "cell_type": "code",
      "source": [
        "nx.draw(G1)"
      ],
      "metadata": {
        "colab": {
          "base_uri": "https://localhost:8080/",
          "height": 516
        },
        "id": "FDrJbjwUgkk0",
        "outputId": "07e5e5d6-138c-457d-eaeb-95699295375c"
      },
      "execution_count": 29,
      "outputs": [
        {
          "output_type": "display_data",
          "data": {
            "text/plain": [
              "<Figure size 640x480 with 1 Axes>"
            ],
            "image/png": "[encoded data removed]"
          },
          "metadata": {}
        }
      ]
    },
    {
      "cell_type": "code",
      "source": [
        "nx.draw(G2)"
      ],
      "metadata": {
        "colab": {
          "base_uri": "https://localhost:8080/",
          "height": 516
        },
        "id": "DXTTVVNDgp1P",
        "outputId": "3cacc52f-b4ab-40ed-c584-60dc9194bf92"
      },
      "execution_count": 30,
      "outputs": [
        {
          "output_type": "display_data",
          "data": {
            "text/plain": [
              "<Figure size 640x480 with 1 Axes>"
            ],
            "image/png": "[encoded data removed]"
          },
          "metadata": {}
        }
      ]
    }
  ]
}